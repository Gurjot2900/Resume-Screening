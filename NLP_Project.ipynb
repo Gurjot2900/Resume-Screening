{
 "cells": [
  {
   "cell_type": "code",
   "execution_count": 1,
   "id": "f230871e-bacd-4bf5-bdea-b4a8dd1df7d0",
   "metadata": {},
   "outputs": [],
   "source": [
    "import pandas as pd\n",
    "import numpy as np\n",
    "import seaborn as sns\n",
    "import matplotlib.pyplot as plt\n",
    "import sklearn"
   ]
  },
  {
   "cell_type": "code",
   "execution_count": 2,
   "id": "ffcb2197-ceb0-4376-bf35-699359798520",
   "metadata": {},
   "outputs": [
    {
     "name": "stdout",
     "output_type": "stream",
     "text": [
      "pandas 2.2.2\n",
      "numpy 1.26.4\n",
      "sklearn 1.5.1\n"
     ]
    }
   ],
   "source": [
    "print('pandas', pd.__version__)\n",
    "print('numpy', np.__version__)\n",
    "print('sklearn', sklearn.__version__)"
   ]
  },
  {
   "cell_type": "code",
   "execution_count": 3,
   "id": "d4b941ec-8a8a-49a3-afcf-e5438018706e",
   "metadata": {},
   "outputs": [
    {
     "data": {
      "text/html": [
       "<div>\n",
       "<style scoped>\n",
       "    .dataframe tbody tr th:only-of-type {\n",
       "        vertical-align: middle;\n",
       "    }\n",
       "\n",
       "    .dataframe tbody tr th {\n",
       "        vertical-align: top;\n",
       "    }\n",
       "\n",
       "    .dataframe thead th {\n",
       "        text-align: right;\n",
       "    }\n",
       "</style>\n",
       "<table border=\"1\" class=\"dataframe\">\n",
       "  <thead>\n",
       "    <tr style=\"text-align: right;\">\n",
       "      <th></th>\n",
       "      <th>Category</th>\n",
       "      <th>Resume</th>\n",
       "    </tr>\n",
       "  </thead>\n",
       "  <tbody>\n",
       "    <tr>\n",
       "      <th>0</th>\n",
       "      <td>Data Science</td>\n",
       "      <td>Skills * Programming Languages: Python (pandas...</td>\n",
       "    </tr>\n",
       "    <tr>\n",
       "      <th>1</th>\n",
       "      <td>Data Science</td>\n",
       "      <td>Education Details \\r\\nMay 2013 to May 2017 B.E...</td>\n",
       "    </tr>\n",
       "    <tr>\n",
       "      <th>2</th>\n",
       "      <td>Data Science</td>\n",
       "      <td>Areas of Interest Deep Learning, Control Syste...</td>\n",
       "    </tr>\n",
       "    <tr>\n",
       "      <th>3</th>\n",
       "      <td>Data Science</td>\n",
       "      <td>Skills â¢ R â¢ Python â¢ SAP HANA â¢ Table...</td>\n",
       "    </tr>\n",
       "    <tr>\n",
       "      <th>4</th>\n",
       "      <td>Data Science</td>\n",
       "      <td>Education Details \\r\\n MCA   YMCAUST,  Faridab...</td>\n",
       "    </tr>\n",
       "    <tr>\n",
       "      <th>...</th>\n",
       "      <td>...</td>\n",
       "      <td>...</td>\n",
       "    </tr>\n",
       "    <tr>\n",
       "      <th>957</th>\n",
       "      <td>Testing</td>\n",
       "      <td>Computer Skills: â¢ Proficient in MS office (...</td>\n",
       "    </tr>\n",
       "    <tr>\n",
       "      <th>958</th>\n",
       "      <td>Testing</td>\n",
       "      <td>â Willingness to accept the challenges. â ...</td>\n",
       "    </tr>\n",
       "    <tr>\n",
       "      <th>959</th>\n",
       "      <td>Testing</td>\n",
       "      <td>PERSONAL SKILLS â¢ Quick learner, â¢ Eagerne...</td>\n",
       "    </tr>\n",
       "    <tr>\n",
       "      <th>960</th>\n",
       "      <td>Testing</td>\n",
       "      <td>COMPUTER SKILLS &amp; SOFTWARE KNOWLEDGE MS-Power ...</td>\n",
       "    </tr>\n",
       "    <tr>\n",
       "      <th>961</th>\n",
       "      <td>Testing</td>\n",
       "      <td>Skill Set OS Windows XP/7/8/8.1/10 Database MY...</td>\n",
       "    </tr>\n",
       "  </tbody>\n",
       "</table>\n",
       "<p>962 rows × 2 columns</p>\n",
       "</div>"
      ],
      "text/plain": [
       "         Category                                             Resume\n",
       "0    Data Science  Skills * Programming Languages: Python (pandas...\n",
       "1    Data Science  Education Details \\r\\nMay 2013 to May 2017 B.E...\n",
       "2    Data Science  Areas of Interest Deep Learning, Control Syste...\n",
       "3    Data Science  Skills â¢ R â¢ Python â¢ SAP HANA â¢ Table...\n",
       "4    Data Science  Education Details \\r\\n MCA   YMCAUST,  Faridab...\n",
       "..            ...                                                ...\n",
       "957       Testing  Computer Skills: â¢ Proficient in MS office (...\n",
       "958       Testing  â Willingness to accept the challenges. â ...\n",
       "959       Testing  PERSONAL SKILLS â¢ Quick learner, â¢ Eagerne...\n",
       "960       Testing  COMPUTER SKILLS & SOFTWARE KNOWLEDGE MS-Power ...\n",
       "961       Testing  Skill Set OS Windows XP/7/8/8.1/10 Database MY...\n",
       "\n",
       "[962 rows x 2 columns]"
      ]
     },
     "execution_count": 3,
     "metadata": {},
     "output_type": "execute_result"
    }
   ],
   "source": [
    "#Reading the dataset into the notebook\n",
    "df = pd.read_csv('UpdatedResumeDataSet.csv')\n",
    "df"
   ]
  },
  {
   "cell_type": "code",
   "execution_count": 4,
   "id": "6ce35922-097e-46b6-b2d2-bf9a317e3b30",
   "metadata": {},
   "outputs": [
    {
     "data": {
      "text/html": [
       "<div>\n",
       "<style scoped>\n",
       "    .dataframe tbody tr th:only-of-type {\n",
       "        vertical-align: middle;\n",
       "    }\n",
       "\n",
       "    .dataframe tbody tr th {\n",
       "        vertical-align: top;\n",
       "    }\n",
       "\n",
       "    .dataframe thead th {\n",
       "        text-align: right;\n",
       "    }\n",
       "</style>\n",
       "<table border=\"1\" class=\"dataframe\">\n",
       "  <thead>\n",
       "    <tr style=\"text-align: right;\">\n",
       "      <th></th>\n",
       "      <th>Category</th>\n",
       "      <th>Resume</th>\n",
       "    </tr>\n",
       "  </thead>\n",
       "  <tbody>\n",
       "    <tr>\n",
       "      <th>0</th>\n",
       "      <td>Data Science</td>\n",
       "      <td>Skills * Programming Languages: Python (pandas...</td>\n",
       "    </tr>\n",
       "    <tr>\n",
       "      <th>1</th>\n",
       "      <td>Data Science</td>\n",
       "      <td>Education Details \\r\\nMay 2013 to May 2017 B.E...</td>\n",
       "    </tr>\n",
       "    <tr>\n",
       "      <th>2</th>\n",
       "      <td>Data Science</td>\n",
       "      <td>Areas of Interest Deep Learning, Control Syste...</td>\n",
       "    </tr>\n",
       "    <tr>\n",
       "      <th>3</th>\n",
       "      <td>Data Science</td>\n",
       "      <td>Skills â¢ R â¢ Python â¢ SAP HANA â¢ Table...</td>\n",
       "    </tr>\n",
       "    <tr>\n",
       "      <th>4</th>\n",
       "      <td>Data Science</td>\n",
       "      <td>Education Details \\r\\n MCA   YMCAUST,  Faridab...</td>\n",
       "    </tr>\n",
       "  </tbody>\n",
       "</table>\n",
       "</div>"
      ],
      "text/plain": [
       "       Category                                             Resume\n",
       "0  Data Science  Skills * Programming Languages: Python (pandas...\n",
       "1  Data Science  Education Details \\r\\nMay 2013 to May 2017 B.E...\n",
       "2  Data Science  Areas of Interest Deep Learning, Control Syste...\n",
       "3  Data Science  Skills â¢ R â¢ Python â¢ SAP HANA â¢ Table...\n",
       "4  Data Science  Education Details \\r\\n MCA   YMCAUST,  Faridab..."
      ]
     },
     "execution_count": 4,
     "metadata": {},
     "output_type": "execute_result"
    }
   ],
   "source": [
    "#Checking the first few rows of the dataset\n",
    "df.head()"
   ]
  },
  {
   "cell_type": "code",
   "execution_count": 5,
   "id": "9425caf9-ec80-456a-b97d-5d7682f06914",
   "metadata": {},
   "outputs": [
    {
     "data": {
      "text/plain": [
       "(962, 2)"
      ]
     },
     "execution_count": 5,
     "metadata": {},
     "output_type": "execute_result"
    }
   ],
   "source": [
    "#Checking the shape\n",
    "df.shape"
   ]
  },
  {
   "cell_type": "markdown",
   "id": "459e47f6-c682-42e2-b470-38b3f6636b1a",
   "metadata": {},
   "source": [
    "# Exploring the dataset"
   ]
  },
  {
   "cell_type": "markdown",
   "id": "40ba85c6-6b8c-4462-b683-850ff2be3108",
   "metadata": {},
   "source": [
    "## Exploring the 'Category' column"
   ]
  },
  {
   "cell_type": "code",
   "execution_count": 8,
   "id": "f48a879c-ca27-4ec4-9fd1-32e6cf4cc03d",
   "metadata": {},
   "outputs": [
    {
     "data": {
      "text/plain": [
       "0      Data Science\n",
       "1      Data Science\n",
       "2      Data Science\n",
       "3      Data Science\n",
       "4      Data Science\n",
       "           ...     \n",
       "957         Testing\n",
       "958         Testing\n",
       "959         Testing\n",
       "960         Testing\n",
       "961         Testing\n",
       "Name: Category, Length: 962, dtype: object"
      ]
     },
     "execution_count": 8,
     "metadata": {},
     "output_type": "execute_result"
    }
   ],
   "source": [
    "#Exploring the 'Category' column\n",
    "df.Category"
   ]
  },
  {
   "cell_type": "code",
   "execution_count": 9,
   "id": "397c9087-b6c8-40e5-98c0-6b495372ad5b",
   "metadata": {},
   "outputs": [
    {
     "data": {
      "text/plain": [
       "Category\n",
       "Java Developer               84\n",
       "Testing                      70\n",
       "DevOps Engineer              55\n",
       "Python Developer             48\n",
       "Web Designing                45\n",
       "HR                           44\n",
       "Hadoop                       42\n",
       "Blockchain                   40\n",
       "ETL Developer                40\n",
       "Operations Manager           40\n",
       "Data Science                 40\n",
       "Sales                        40\n",
       "Mechanical Engineer          40\n",
       "Arts                         36\n",
       "Database                     33\n",
       "Electrical Engineering       30\n",
       "Health and fitness           30\n",
       "PMO                          30\n",
       "Business Analyst             28\n",
       "DotNet Developer             28\n",
       "Automation Testing           26\n",
       "Network Security Engineer    25\n",
       "SAP Developer                24\n",
       "Civil Engineer               24\n",
       "Advocate                     20\n",
       "Name: count, dtype: int64"
      ]
     },
     "execution_count": 9,
     "metadata": {},
     "output_type": "execute_result"
    }
   ],
   "source": [
    "counts = df.Category.value_counts()\n",
    "counts"
   ]
  },
  {
   "cell_type": "code",
   "execution_count": 10,
   "id": "36d70396-35a0-4255-bb02-660aa5a4b05f",
   "metadata": {},
   "outputs": [
    {
     "data": {
      "image/png": "[encoded data removed]",
      "text/plain": [
       "<Figure size 1000x500 with 1 Axes>"
      ]
     },
     "metadata": {},
     "output_type": "display_data"
    }
   ],
   "source": [
    "plt.figure(figsize = (10,5))\n",
    "sns.countplot(df['Category'])\n",
    "plt.show()"
   ]
  },
  {
   "cell_type": "markdown",
   "id": "74b77c67-03a2-46b7-9e9c-0e95c1e941f3",
   "metadata": {},
   "source": [
    "### Findings\n",
    "\n",
    "- The highest number of resumes found in the dataset are of the 'Java Developer' category.\n",
    "- Next highest would be 'Testing'"
   ]
  },
  {
   "cell_type": "code",
   "execution_count": 12,
   "id": "2d6be360-8227-4a75-a2cd-c7b92411a856",
   "metadata": {},
   "outputs": [
    {
     "data": {
      "image/png": "[encoded data removed]",
      "text/plain": [
       "<Figure size 1500x1000 with 1 Axes>"
      ]
     },
     "metadata": {},
     "output_type": "display_data"
    }
   ],
   "source": [
    "#Let's represent it in a pie chart\n",
    "plt.figure(figsize=(15,10))\n",
    "plt.pie(counts, labels = df.Category.unique())\n",
    "plt.show()"
   ]
  },
  {
   "cell_type": "markdown",
   "id": "cca0b9d4-430d-4a17-8bd3-ad20bd2d408c",
   "metadata": {},
   "source": [
    "## Exploring the 'Resume' column"
   ]
  },
  {
   "cell_type": "code",
   "execution_count": 14,
   "id": "a2b3b8b3-51c5-4d0b-b7f2-a5d097324c24",
   "metadata": {},
   "outputs": [
    {
     "data": {
      "text/plain": [
       "0      Data Science\n",
       "1      Data Science\n",
       "2      Data Science\n",
       "3      Data Science\n",
       "4      Data Science\n",
       "           ...     \n",
       "957         Testing\n",
       "958         Testing\n",
       "959         Testing\n",
       "960         Testing\n",
       "961         Testing\n",
       "Name: Category, Length: 962, dtype: object"
      ]
     },
     "execution_count": 14,
     "metadata": {},
     "output_type": "execute_result"
    }
   ],
   "source": [
    "# Checking the 1st resume\n",
    "df.Category"
   ]
  },
  {
   "cell_type": "code",
   "execution_count": 15,
   "id": "6f1ea211-2b2f-479a-9abb-49fe3b4a2bc3",
   "metadata": {},
   "outputs": [
    {
     "data": {
      "text/plain": [
       "'Data Science'"
      ]
     },
     "execution_count": 15,
     "metadata": {},
     "output_type": "execute_result"
    }
   ],
   "source": [
    "df.Category[0]"
   ]
  },
  {
   "cell_type": "code",
   "execution_count": 16,
   "id": "54b4dfe8-022e-465d-bcc8-1e848b0a047f",
   "metadata": {},
   "outputs": [
    {
     "data": {
      "text/plain": [
       "'Skills * Programming Languages: Python (pandas, numpy, scipy, scikit-learn, matplotlib), Sql, Java, JavaScript/JQuery. * Machine learning: Regression, SVM, NaÃ¯ve Bayes, KNN, Random Forest, Decision Trees, Boosting techniques, Cluster Analysis, Word Embedding, Sentiment Analysis, Natural Language processing, Dimensionality reduction, Topic Modelling (LDA, NMF), PCA & Neural Nets. * Database Visualizations: Mysql, SqlServer, Cassandra, Hbase, ElasticSearch D3.js, DC.js, Plotly, kibana, matplotlib, ggplot, Tableau. * Others: Regular Expression, HTML, CSS, Angular 6, Logstash, Kafka, Python Flask, Git, Docker, computer vision - Open CV and understanding of Deep learning.Education Details \\r\\n\\r\\nData Science Assurance Associate \\r\\n\\r\\nData Science Assurance Associate - Ernst & Young LLP\\r\\nSkill Details \\r\\nJAVASCRIPT- Exprience - 24 months\\r\\njQuery- Exprience - 24 months\\r\\nPython- Exprience - 24 monthsCompany Details \\r\\ncompany - Ernst & Young LLP\\r\\ndescription - Fraud Investigations and Dispute Services   Assurance\\r\\nTECHNOLOGY ASSISTED REVIEW\\r\\nTAR (Technology Assisted Review) assists in accelerating the review process and run analytics and generate reports.\\r\\n* Core member of a team helped in developing automated review platform tool from scratch for assisting E discovery domain, this tool implements predictive coding and topic modelling by automating reviews, resulting in reduced labor costs and time spent during the lawyers review.\\r\\n* Understand the end to end flow of the solution, doing research and development for classification models, predictive analysis and mining of the information present in text data. Worked on analyzing the outputs and precision monitoring for the entire tool.\\r\\n* TAR assists in predictive coding, topic modelling from the evidence by following EY standards. Developed the classifier models in order to identify \"red flags\" and fraud-related issues.\\r\\n\\r\\nTools & Technologies: Python, scikit-learn, tfidf, word2vec, doc2vec, cosine similarity, NaÃ¯ve Bayes, LDA, NMF for topic modelling, Vader and text blob for sentiment analysis. Matplot lib, Tableau dashboard for reporting.\\r\\n\\r\\nMULTIPLE DATA SCIENCE AND ANALYTIC PROJECTS (USA CLIENTS)\\r\\nTEXT ANALYTICS - MOTOR VEHICLE CUSTOMER REVIEW DATA * Received customer feedback survey data for past one year. Performed sentiment (Positive, Negative & Neutral) and time series analysis on customer comments across all 4 categories.\\r\\n* Created heat map of terms by survey category based on frequency of words * Extracted Positive and Negative words across all the Survey categories and plotted Word cloud.\\r\\n* Created customized tableau dashboards for effective reporting and visualizations.\\r\\nCHATBOT * Developed a user friendly chatbot for one of our Products which handle simple questions about hours of operation, reservation options and so on.\\r\\n* This chat bot serves entire product related questions. Giving overview of tool via QA platform and also give recommendation responses so that user question to build chain of relevant answer.\\r\\n* This too has intelligence to build the pipeline of questions as per user requirement and asks the relevant /recommended questions.\\r\\n\\r\\nTools & Technologies: Python, Natural language processing, NLTK, spacy, topic modelling, Sentiment analysis, Word Embedding, scikit-learn, JavaScript/JQuery, SqlServer\\r\\n\\r\\nINFORMATION GOVERNANCE\\r\\nOrganizations to make informed decisions about all of the information they store. The integrated Information Governance portfolio synthesizes intelligence across unstructured data sources and facilitates action to ensure organizations are best positioned to counter information risk.\\r\\n* Scan data from multiple sources of formats and parse different file formats, extract Meta data information, push results for indexing elastic search and created customized, interactive dashboards using kibana.\\r\\n* Preforming ROT Analysis on the data which give information of data which helps identify content that is either Redundant, Outdated, or Trivial.\\r\\n* Preforming full-text search analysis on elastic search with predefined methods which can tag as (PII) personally identifiable information (social security numbers, addresses, names, etc.) which frequently targeted during cyber-attacks.\\r\\nTools & Technologies: Python, Flask, Elastic Search, Kibana\\r\\n\\r\\nFRAUD ANALYTIC PLATFORM\\r\\nFraud Analytics and investigative platform to review all red flag cases.\\r\\nâ\\x80¢ FAP is a Fraud Analytics and investigative platform with inbuilt case manager and suite of Analytics for various ERP systems.\\r\\n* It can be used by clients to interrogate their Accounting systems for identifying the anomalies which can be indicators of fraud by running advanced analytics\\r\\nTools & Technologies: HTML, JavaScript, SqlServer, JQuery, CSS, Bootstrap, Node.js, D3.js, DC.js'"
      ]
     },
     "execution_count": 16,
     "metadata": {},
     "output_type": "execute_result"
    }
   ],
   "source": [
    "df.Resume[0]"
   ]
  },
  {
   "cell_type": "markdown",
   "id": "fd2eaede-f4c9-4874-b6e1-d5871132be65",
   "metadata": {},
   "source": [
    "- This is the resume of the 1st category in the dataset i.e., the resume of the 1st data science category\n",
    "- As you can see there are a lot of unnecessary data in the resume like '*', '\\r\\n' and so on. Hence, we need to clean this data."
   ]
  },
  {
   "cell_type": "markdown",
   "id": "8c11e798-afe3-4aec-afa4-12b1726c06bc",
   "metadata": {},
   "source": [
    "## Cleaning the 'Resume' data\n",
    "- Cleaning URLs\n",
    "- Clearing Hashtags\n",
    "- Clearing mentions\n",
    "- Clearing special letters\n",
    "- Clearing punctuations"
   ]
  },
  {
   "cell_type": "code",
   "execution_count": 19,
   "id": "234a9718-735d-4201-ad85-57da3d6a33e5",
   "metadata": {},
   "outputs": [],
   "source": [
    "# Using regular expression \n",
    "import re\n",
    "def cleanres(txt):\n",
    "    cleantxt = re.sub(r'http\\S+\\s?', '', txt) #To remove links 'https.example.com'\n",
    "    cleantxt = re.sub(r'\\b[A-Za-z0-9._%+-]+@[A-Za-z0-9.-]+\\.[A-Za-z]{2,}\\b', '', cleantxt) #To remove emails\n",
    "    cleantxt = re.sub(r'\\s?#\\w+', '', cleantxt) #To remove Hanshtags\n",
    "    cleantxt = re.sub(r'\\s?@\\w+', '', cleantxt) #To remove \n",
    "    #cleantxt = re.sub(r'[^A-Za-z0-9\\s]', '', cleantxt)\n",
    "    cleantxt = re.sub(r'[^\\w\\d\\s]', '', cleantxt)\n",
    "    cleantxt = re.sub(r'\\s+', ' ', cleantxt)\n",
    "    return cleantxt"
   ]
  },
  {
   "cell_type": "code",
   "execution_count": 20,
   "id": "4d1d152a-4dcb-42ec-b56e-668e320a873b",
   "metadata": {
    "scrolled": true
   },
   "outputs": [
    {
     "data": {
      "text/plain": [
       "'Check out this link and also visit for more info and follow and me and these are special char '"
      ]
     },
     "execution_count": 20,
     "metadata": {},
     "output_type": "execute_result"
    }
   ],
   "source": [
    "cleanres(\"Check out this link: https://example.com and also visit http://example.org for more info. and follow gurjot@gmail.com and #follow me and @gurjot these are special char @#?$%&* \\r\\n\")"
   ]
  },
  {
   "cell_type": "code",
   "execution_count": 21,
   "id": "dcac5a01-76b4-427f-a7af-0316d3cc3055",
   "metadata": {},
   "outputs": [
    {
     "data": {
      "text/plain": [
       "'Check out this link and also visit for more info and follow and me and these are special char '"
      ]
     },
     "execution_count": 21,
     "metadata": {},
     "output_type": "execute_result"
    }
   ],
   "source": [
    "cleanres(\"Check out this link: https://example.com and also visit http://example.org for more info. and follow gurjot@gmail.com and #follow me and @gurjot these are special char @#?$%&* \\r\\n\")"
   ]
  },
  {
   "cell_type": "code",
   "execution_count": 22,
   "id": "0e61be72-ada6-4c55-a1f2-704105577a07",
   "metadata": {},
   "outputs": [],
   "source": [
    "df['Resume'] = df['Resume'].apply(lambda x: cleanres(x))"
   ]
  },
  {
   "cell_type": "code",
   "execution_count": 23,
   "id": "a5f3192f-6970-4fc6-8ca4-5512cd8fbcf5",
   "metadata": {},
   "outputs": [
    {
     "data": {
      "text/plain": [
       "'Skills Programming Languages Python pandas numpy scipy scikitlearn matplotlib Sql Java JavaScriptJQuery Machine learning Regression SVM NaÃve Bayes KNN Random Forest Decision Trees Boosting techniques Cluster Analysis Word Embedding Sentiment Analysis Natural Language processing Dimensionality reduction Topic Modelling LDA NMF PCA Neural Nets Database Visualizations Mysql SqlServer Cassandra Hbase ElasticSearch D3js DCjs Plotly kibana matplotlib ggplot Tableau Others Regular Expression HTML CSS Angular 6 Logstash Kafka Python Flask Git Docker computer vision Open CV and understanding of Deep learningEducation Details Data Science Assurance Associate Data Science Assurance Associate Ernst Young LLP Skill Details JAVASCRIPT Exprience 24 months jQuery Exprience 24 months Python Exprience 24 monthsCompany Details company Ernst Young LLP description Fraud Investigations and Dispute Services Assurance TECHNOLOGY ASSISTED REVIEW TAR Technology Assisted Review assists in accelerating the review process and run analytics and generate reports Core member of a team helped in developing automated review platform tool from scratch for assisting E discovery domain this tool implements predictive coding and topic modelling by automating reviews resulting in reduced labor costs and time spent during the lawyers review Understand the end to end flow of the solution doing research and development for classification models predictive analysis and mining of the information present in text data Worked on analyzing the outputs and precision monitoring for the entire tool TAR assists in predictive coding topic modelling from the evidence by following EY standards Developed the classifier models in order to identify red flags and fraudrelated issues Tools Technologies Python scikitlearn tfidf word2vec doc2vec cosine similarity NaÃve Bayes LDA NMF for topic modelling Vader and text blob for sentiment analysis Matplot lib Tableau dashboard for reporting MULTIPLE DATA SCIENCE AND ANALYTIC PROJECTS USA CLIENTS TEXT ANALYTICS MOTOR VEHICLE CUSTOMER REVIEW DATA Received customer feedback survey data for past one year Performed sentiment Positive Negative Neutral and time series analysis on customer comments across all 4 categories Created heat map of terms by survey category based on frequency of words Extracted Positive and Negative words across all the Survey categories and plotted Word cloud Created customized tableau dashboards for effective reporting and visualizations CHATBOT Developed a user friendly chatbot for one of our Products which handle simple questions about hours of operation reservation options and so on This chat bot serves entire product related questions Giving overview of tool via QA platform and also give recommendation responses so that user question to build chain of relevant answer This too has intelligence to build the pipeline of questions as per user requirement and asks the relevant recommended questions Tools Technologies Python Natural language processing NLTK spacy topic modelling Sentiment analysis Word Embedding scikitlearn JavaScriptJQuery SqlServer INFORMATION GOVERNANCE Organizations to make informed decisions about all of the information they store The integrated Information Governance portfolio synthesizes intelligence across unstructured data sources and facilitates action to ensure organizations are best positioned to counter information risk Scan data from multiple sources of formats and parse different file formats extract Meta data information push results for indexing elastic search and created customized interactive dashboards using kibana Preforming ROT Analysis on the data which give information of data which helps identify content that is either Redundant Outdated or Trivial Preforming fulltext search analysis on elastic search with predefined methods which can tag as PII personally identifiable information social security numbers addresses names etc which frequently targeted during cyberattacks Tools Technologies Python Flask Elastic Search Kibana FRAUD ANALYTIC PLATFORM Fraud Analytics and investigative platform to review all red flag cases â FAP is a Fraud Analytics and investigative platform with inbuilt case manager and suite of Analytics for various ERP systems It can be used by clients to interrogate their Accounting systems for identifying the anomalies which can be indicators of fraud by running advanced analytics Tools Technologies HTML JavaScript SqlServer JQuery CSS Bootstrap Nodejs D3js DCjs'"
      ]
     },
     "execution_count": 23,
     "metadata": {},
     "output_type": "execute_result"
    }
   ],
   "source": [
    "df['Resume'][0]"
   ]
  },
  {
   "cell_type": "markdown",
   "id": "7d6b5c66-7397-43b8-a2dd-c9c35de513a4",
   "metadata": {},
   "source": [
    "## Turning 'Category' column to numbers using LabelEncoder"
   ]
  },
  {
   "cell_type": "code",
   "execution_count": 25,
   "id": "3b1c3782-bc9d-4b57-85b6-b422762dc8ac",
   "metadata": {},
   "outputs": [
    {
     "data": {
      "text/html": [
       "<div>\n",
       "<style scoped>\n",
       "    .dataframe tbody tr th:only-of-type {\n",
       "        vertical-align: middle;\n",
       "    }\n",
       "\n",
       "    .dataframe tbody tr th {\n",
       "        vertical-align: top;\n",
       "    }\n",
       "\n",
       "    .dataframe thead th {\n",
       "        text-align: right;\n",
       "    }\n",
       "</style>\n",
       "<table border=\"1\" class=\"dataframe\">\n",
       "  <thead>\n",
       "    <tr style=\"text-align: right;\">\n",
       "      <th></th>\n",
       "      <th>Category</th>\n",
       "      <th>Resume</th>\n",
       "    </tr>\n",
       "  </thead>\n",
       "  <tbody>\n",
       "    <tr>\n",
       "      <th>0</th>\n",
       "      <td>Data Science</td>\n",
       "      <td>Skills Programming Languages Python pandas num...</td>\n",
       "    </tr>\n",
       "    <tr>\n",
       "      <th>1</th>\n",
       "      <td>Data Science</td>\n",
       "      <td>Education Details May 2013 to May 2017 BE UITR...</td>\n",
       "    </tr>\n",
       "    <tr>\n",
       "      <th>2</th>\n",
       "      <td>Data Science</td>\n",
       "      <td>Areas of Interest Deep Learning Control System...</td>\n",
       "    </tr>\n",
       "    <tr>\n",
       "      <th>3</th>\n",
       "      <td>Data Science</td>\n",
       "      <td>Skills â R â Python â SAP HANA â Tableau â SAP...</td>\n",
       "    </tr>\n",
       "    <tr>\n",
       "      <th>4</th>\n",
       "      <td>Data Science</td>\n",
       "      <td>Education Details MCA YMCAUST Faridabad Haryan...</td>\n",
       "    </tr>\n",
       "    <tr>\n",
       "      <th>...</th>\n",
       "      <td>...</td>\n",
       "      <td>...</td>\n",
       "    </tr>\n",
       "    <tr>\n",
       "      <th>957</th>\n",
       "      <td>Testing</td>\n",
       "      <td>Computer Skills â Proficient in MS office Word...</td>\n",
       "    </tr>\n",
       "    <tr>\n",
       "      <th>958</th>\n",
       "      <td>Testing</td>\n",
       "      <td>â Willingness to accept the challenges â Posit...</td>\n",
       "    </tr>\n",
       "    <tr>\n",
       "      <th>959</th>\n",
       "      <td>Testing</td>\n",
       "      <td>PERSONAL SKILLS â Quick learner â Eagerness to...</td>\n",
       "    </tr>\n",
       "    <tr>\n",
       "      <th>960</th>\n",
       "      <td>Testing</td>\n",
       "      <td>COMPUTER SKILLS SOFTWARE KNOWLEDGE MSPower Poi...</td>\n",
       "    </tr>\n",
       "    <tr>\n",
       "      <th>961</th>\n",
       "      <td>Testing</td>\n",
       "      <td>Skill Set OS Windows XP788110 Database MYSQL s...</td>\n",
       "    </tr>\n",
       "  </tbody>\n",
       "</table>\n",
       "<p>962 rows × 2 columns</p>\n",
       "</div>"
      ],
      "text/plain": [
       "         Category                                             Resume\n",
       "0    Data Science  Skills Programming Languages Python pandas num...\n",
       "1    Data Science  Education Details May 2013 to May 2017 BE UITR...\n",
       "2    Data Science  Areas of Interest Deep Learning Control System...\n",
       "3    Data Science  Skills â R â Python â SAP HANA â Tableau â SAP...\n",
       "4    Data Science  Education Details MCA YMCAUST Faridabad Haryan...\n",
       "..            ...                                                ...\n",
       "957       Testing  Computer Skills â Proficient in MS office Word...\n",
       "958       Testing  â Willingness to accept the challenges â Posit...\n",
       "959       Testing  PERSONAL SKILLS â Quick learner â Eagerness to...\n",
       "960       Testing  COMPUTER SKILLS SOFTWARE KNOWLEDGE MSPower Poi...\n",
       "961       Testing  Skill Set OS Windows XP788110 Database MYSQL s...\n",
       "\n",
       "[962 rows x 2 columns]"
      ]
     },
     "execution_count": 25,
     "metadata": {},
     "output_type": "execute_result"
    }
   ],
   "source": [
    "df"
   ]
  },
  {
   "cell_type": "code",
   "execution_count": 26,
   "id": "c96630a0-0c3e-4d05-b70f-7949e0514ed8",
   "metadata": {},
   "outputs": [],
   "source": [
    "# As the 'Category' column is in text format, for machine learning we need to use label encoder to convert it into numbers\n",
    "from sklearn.preprocessing import LabelEncoder\n",
    "le = LabelEncoder()"
   ]
  },
  {
   "cell_type": "code",
   "execution_count": 27,
   "id": "13f4b2b0-40d5-4129-b940-21eb0d4660c6",
   "metadata": {},
   "outputs": [],
   "source": [
    "le.fit(df['Category'])\n",
    "df['Category'] = le.transform(df['Category'])"
   ]
  },
  {
   "cell_type": "code",
   "execution_count": 28,
   "id": "09623320-c443-4bc0-90c0-70c9c769eab2",
   "metadata": {},
   "outputs": [
    {
     "data": {
      "text/html": [
       "<div>\n",
       "<style scoped>\n",
       "    .dataframe tbody tr th:only-of-type {\n",
       "        vertical-align: middle;\n",
       "    }\n",
       "\n",
       "    .dataframe tbody tr th {\n",
       "        vertical-align: top;\n",
       "    }\n",
       "\n",
       "    .dataframe thead th {\n",
       "        text-align: right;\n",
       "    }\n",
       "</style>\n",
       "<table border=\"1\" class=\"dataframe\">\n",
       "  <thead>\n",
       "    <tr style=\"text-align: right;\">\n",
       "      <th></th>\n",
       "      <th>Category</th>\n",
       "      <th>Resume</th>\n",
       "    </tr>\n",
       "  </thead>\n",
       "  <tbody>\n",
       "    <tr>\n",
       "      <th>0</th>\n",
       "      <td>6</td>\n",
       "      <td>Skills Programming Languages Python pandas num...</td>\n",
       "    </tr>\n",
       "    <tr>\n",
       "      <th>1</th>\n",
       "      <td>6</td>\n",
       "      <td>Education Details May 2013 to May 2017 BE UITR...</td>\n",
       "    </tr>\n",
       "    <tr>\n",
       "      <th>2</th>\n",
       "      <td>6</td>\n",
       "      <td>Areas of Interest Deep Learning Control System...</td>\n",
       "    </tr>\n",
       "    <tr>\n",
       "      <th>3</th>\n",
       "      <td>6</td>\n",
       "      <td>Skills â R â Python â SAP HANA â Tableau â SAP...</td>\n",
       "    </tr>\n",
       "    <tr>\n",
       "      <th>4</th>\n",
       "      <td>6</td>\n",
       "      <td>Education Details MCA YMCAUST Faridabad Haryan...</td>\n",
       "    </tr>\n",
       "    <tr>\n",
       "      <th>...</th>\n",
       "      <td>...</td>\n",
       "      <td>...</td>\n",
       "    </tr>\n",
       "    <tr>\n",
       "      <th>957</th>\n",
       "      <td>23</td>\n",
       "      <td>Computer Skills â Proficient in MS office Word...</td>\n",
       "    </tr>\n",
       "    <tr>\n",
       "      <th>958</th>\n",
       "      <td>23</td>\n",
       "      <td>â Willingness to accept the challenges â Posit...</td>\n",
       "    </tr>\n",
       "    <tr>\n",
       "      <th>959</th>\n",
       "      <td>23</td>\n",
       "      <td>PERSONAL SKILLS â Quick learner â Eagerness to...</td>\n",
       "    </tr>\n",
       "    <tr>\n",
       "      <th>960</th>\n",
       "      <td>23</td>\n",
       "      <td>COMPUTER SKILLS SOFTWARE KNOWLEDGE MSPower Poi...</td>\n",
       "    </tr>\n",
       "    <tr>\n",
       "      <th>961</th>\n",
       "      <td>23</td>\n",
       "      <td>Skill Set OS Windows XP788110 Database MYSQL s...</td>\n",
       "    </tr>\n",
       "  </tbody>\n",
       "</table>\n",
       "<p>962 rows × 2 columns</p>\n",
       "</div>"
      ],
      "text/plain": [
       "     Category                                             Resume\n",
       "0           6  Skills Programming Languages Python pandas num...\n",
       "1           6  Education Details May 2013 to May 2017 BE UITR...\n",
       "2           6  Areas of Interest Deep Learning Control System...\n",
       "3           6  Skills â R â Python â SAP HANA â Tableau â SAP...\n",
       "4           6  Education Details MCA YMCAUST Faridabad Haryan...\n",
       "..        ...                                                ...\n",
       "957        23  Computer Skills â Proficient in MS office Word...\n",
       "958        23  â Willingness to accept the challenges â Posit...\n",
       "959        23  PERSONAL SKILLS â Quick learner â Eagerness to...\n",
       "960        23  COMPUTER SKILLS SOFTWARE KNOWLEDGE MSPower Poi...\n",
       "961        23  Skill Set OS Windows XP788110 Database MYSQL s...\n",
       "\n",
       "[962 rows x 2 columns]"
      ]
     },
     "execution_count": 28,
     "metadata": {},
     "output_type": "execute_result"
    }
   ],
   "source": [
    "df"
   ]
  },
  {
   "cell_type": "code",
   "execution_count": 29,
   "id": "297f30ad-9e89-4f6a-8ab3-abbefbec0173",
   "metadata": {},
   "outputs": [
    {
     "data": {
      "text/plain": [
       "array([ 6, 12,  0,  1, 24, 16, 22, 14,  5, 15,  4, 21,  2, 11, 18, 20,  8,\n",
       "       17, 19,  7, 13, 10,  9,  3, 23])"
      ]
     },
     "execution_count": 29,
     "metadata": {},
     "output_type": "execute_result"
    }
   ],
   "source": [
    "df['Category'].unique()"
   ]
  },
  {
   "cell_type": "markdown",
   "id": "0c6d7bcb-e4e2-4267-941c-d68cf80f216a",
   "metadata": {},
   "source": [
    "## Vectorization"
   ]
  },
  {
   "cell_type": "code",
   "execution_count": 31,
   "id": "c81f5db5-c380-443f-8b79-d13e8b430e84",
   "metadata": {},
   "outputs": [],
   "source": [
    "from sklearn.feature_extraction.text import TfidfVectorizer\n",
    "tfidf = TfidfVectorizer(stop_words = 'english')\n",
    "\n",
    "tfidf.fit(df['Resume'])\n",
    "Reqtxt = tfidf.transform(df['Resume'])"
   ]
  },
  {
   "cell_type": "code",
   "execution_count": 32,
   "id": "36cc2e3e-03bb-4a9d-9cd5-5ffbe2c06002",
   "metadata": {},
   "outputs": [
    {
     "data": {
      "text/html": [
       "<div>\n",
       "<style scoped>\n",
       "    .dataframe tbody tr th:only-of-type {\n",
       "        vertical-align: middle;\n",
       "    }\n",
       "\n",
       "    .dataframe tbody tr th {\n",
       "        vertical-align: top;\n",
       "    }\n",
       "\n",
       "    .dataframe thead th {\n",
       "        text-align: right;\n",
       "    }\n",
       "</style>\n",
       "<table border=\"1\" class=\"dataframe\">\n",
       "  <thead>\n",
       "    <tr style=\"text-align: right;\">\n",
       "      <th></th>\n",
       "      <th>Category</th>\n",
       "      <th>Resume</th>\n",
       "    </tr>\n",
       "  </thead>\n",
       "  <tbody>\n",
       "    <tr>\n",
       "      <th>0</th>\n",
       "      <td>6</td>\n",
       "      <td>Skills Programming Languages Python pandas num...</td>\n",
       "    </tr>\n",
       "    <tr>\n",
       "      <th>1</th>\n",
       "      <td>6</td>\n",
       "      <td>Education Details May 2013 to May 2017 BE UITR...</td>\n",
       "    </tr>\n",
       "    <tr>\n",
       "      <th>2</th>\n",
       "      <td>6</td>\n",
       "      <td>Areas of Interest Deep Learning Control System...</td>\n",
       "    </tr>\n",
       "    <tr>\n",
       "      <th>3</th>\n",
       "      <td>6</td>\n",
       "      <td>Skills â R â Python â SAP HANA â Tableau â SAP...</td>\n",
       "    </tr>\n",
       "    <tr>\n",
       "      <th>4</th>\n",
       "      <td>6</td>\n",
       "      <td>Education Details MCA YMCAUST Faridabad Haryan...</td>\n",
       "    </tr>\n",
       "    <tr>\n",
       "      <th>...</th>\n",
       "      <td>...</td>\n",
       "      <td>...</td>\n",
       "    </tr>\n",
       "    <tr>\n",
       "      <th>957</th>\n",
       "      <td>23</td>\n",
       "      <td>Computer Skills â Proficient in MS office Word...</td>\n",
       "    </tr>\n",
       "    <tr>\n",
       "      <th>958</th>\n",
       "      <td>23</td>\n",
       "      <td>â Willingness to accept the challenges â Posit...</td>\n",
       "    </tr>\n",
       "    <tr>\n",
       "      <th>959</th>\n",
       "      <td>23</td>\n",
       "      <td>PERSONAL SKILLS â Quick learner â Eagerness to...</td>\n",
       "    </tr>\n",
       "    <tr>\n",
       "      <th>960</th>\n",
       "      <td>23</td>\n",
       "      <td>COMPUTER SKILLS SOFTWARE KNOWLEDGE MSPower Poi...</td>\n",
       "    </tr>\n",
       "    <tr>\n",
       "      <th>961</th>\n",
       "      <td>23</td>\n",
       "      <td>Skill Set OS Windows XP788110 Database MYSQL s...</td>\n",
       "    </tr>\n",
       "  </tbody>\n",
       "</table>\n",
       "<p>962 rows × 2 columns</p>\n",
       "</div>"
      ],
      "text/plain": [
       "     Category                                             Resume\n",
       "0           6  Skills Programming Languages Python pandas num...\n",
       "1           6  Education Details May 2013 to May 2017 BE UITR...\n",
       "2           6  Areas of Interest Deep Learning Control System...\n",
       "3           6  Skills â R â Python â SAP HANA â Tableau â SAP...\n",
       "4           6  Education Details MCA YMCAUST Faridabad Haryan...\n",
       "..        ...                                                ...\n",
       "957        23  Computer Skills â Proficient in MS office Word...\n",
       "958        23  â Willingness to accept the challenges â Posit...\n",
       "959        23  PERSONAL SKILLS â Quick learner â Eagerness to...\n",
       "960        23  COMPUTER SKILLS SOFTWARE KNOWLEDGE MSPower Poi...\n",
       "961        23  Skill Set OS Windows XP788110 Database MYSQL s...\n",
       "\n",
       "[962 rows x 2 columns]"
      ]
     },
     "execution_count": 32,
     "metadata": {},
     "output_type": "execute_result"
    }
   ],
   "source": [
    "df"
   ]
  },
  {
   "cell_type": "code",
   "execution_count": 33,
   "id": "fbe0c00e-972b-4322-beb2-f5c093a3b3e0",
   "metadata": {},
   "outputs": [
    {
     "data": {
      "text/plain": [
       "<962x7937 sparse matrix of type '<class 'numpy.float64'>'\n",
       "\twith 164491 stored elements in Compressed Sparse Row format>"
      ]
     },
     "execution_count": 33,
     "metadata": {},
     "output_type": "execute_result"
    }
   ],
   "source": [
    "Reqtxt"
   ]
  },
  {
   "cell_type": "markdown",
   "id": "f54907ad-fcbc-44d9-95f8-2a7faf62006a",
   "metadata": {},
   "source": [
    "## Splitting"
   ]
  },
  {
   "cell_type": "code",
   "execution_count": 35,
   "id": "a0e37257-a900-45a3-9e47-cef403d643fb",
   "metadata": {},
   "outputs": [],
   "source": [
    "from sklearn.model_selection import train_test_split"
   ]
  },
  {
   "cell_type": "code",
   "execution_count": 36,
   "id": "a1a90259-1758-49c2-9554-39e2a266be8b",
   "metadata": {},
   "outputs": [],
   "source": [
    "X_train, X_test, y_train, y_test = train_test_split(Reqtxt, df['Category'], test_size=0.2, random_state=42)"
   ]
  },
  {
   "cell_type": "code",
   "execution_count": 37,
   "id": "97e77161-bb46-4722-93bb-84935a0eb006",
   "metadata": {},
   "outputs": [
    {
     "data": {
      "text/plain": [
       "(769, 7937)"
      ]
     },
     "execution_count": 37,
     "metadata": {},
     "output_type": "execute_result"
    }
   ],
   "source": [
    "X_train.shape"
   ]
  },
  {
   "cell_type": "code",
   "execution_count": 38,
   "id": "35062976-6fe0-4ce4-9827-e8b58d539d93",
   "metadata": {},
   "outputs": [
    {
     "data": {
      "text/plain": [
       "(193, 7937)"
      ]
     },
     "execution_count": 38,
     "metadata": {},
     "output_type": "execute_result"
    }
   ],
   "source": [
    "X_test.shape"
   ]
  },
  {
   "cell_type": "markdown",
   "id": "a475dcda-1675-44ea-93c4-0133151efe3f",
   "metadata": {},
   "source": [
    "## Model Training"
   ]
  },
  {
   "cell_type": "code",
   "execution_count": 40,
   "id": "c8dd5c9d-b104-4c8c-a029-0950a23396d0",
   "metadata": {},
   "outputs": [
    {
     "name": "stdout",
     "output_type": "stream",
     "text": [
      "[15 15 15 13 14 17 16  2  0 14 13 12 16 23 20  5  6  4 10  9 19  1 10 23\n",
      " 23 21 22 22  2 12 18  1  8 24 11 23  7 12 24  8 18  6  8 19 24 23 21  1\n",
      " 15  4 15 22 11  5 15 13  1 19  5 12 22 22 20 24 21 18 12 10 10 20 10  8\n",
      "  9 21 17 21  0 17 16 14 15 11 11  8 20  3 19  8  0  2  9 10  2 23 20 20\n",
      " 23 12 18 12  7 16  8 14 18  3 14 19 14 14 15 18  8  2 21 18 23 10 23  5\n",
      " 11 15 12  3  5  3  7 12 19  8 20 19  3 15  9 19  1 23 21  5 20 15 16  7\n",
      "  7  8 15 18  1 15 13 20  7  4 18 11  5 15  5 12  9 22 18 21  8 23  4 12\n",
      " 24 16 15 22  8 22  3 16 23 23 12  7 16 18  5  3 18  8 23 23 20 21  6  7\n",
      " 23]\n"
     ]
    }
   ],
   "source": [
    "from sklearn.neighbors import KNeighborsClassifier\n",
    "from sklearn.multiclass import OneVsRestClassifier\n",
    "cf = OneVsRestClassifier(KNeighborsClassifier())\n",
    "cf.fit(X_train, y_train)\n",
    "y_pred = cf.predict(X_test)\n",
    "print(y_pred)"
   ]
  },
  {
   "cell_type": "code",
   "execution_count": 41,
   "id": "069c1fd6-92e6-47fd-bc73-c2d553f3f415",
   "metadata": {},
   "outputs": [
    {
     "name": "stdout",
     "output_type": "stream",
     "text": [
      "0.9844559585492227\n"
     ]
    }
   ],
   "source": [
    "from sklearn.metrics import accuracy_score\n",
    "print(accuracy_score(y_test, y_pred))"
   ]
  },
  {
   "cell_type": "markdown",
   "id": "e9f72085-6e99-4829-bfdd-4d60a0929a3c",
   "metadata": {},
   "source": [
    "## Saving the data"
   ]
  },
  {
   "cell_type": "code",
   "execution_count": 43,
   "id": "13cb063f-d4b5-4130-bbdc-0487d7fbb295",
   "metadata": {},
   "outputs": [],
   "source": [
    "import pickle"
   ]
  },
  {
   "cell_type": "code",
   "execution_count": 44,
   "id": "68542059-794d-412c-b07a-5d0fd22cf230",
   "metadata": {},
   "outputs": [],
   "source": [
    "pickle.dump(tfidf, open('tfidf.pkl', 'wb'))\n",
    "pickle.dump(cf, open('cf.pkl', 'wb'))"
   ]
  },
  {
   "cell_type": "markdown",
   "id": "9bbafc48-4fba-4906-824e-95fd767d242a",
   "metadata": {},
   "source": [
    "## Loading the data"
   ]
  },
  {
   "cell_type": "code",
   "execution_count": 46,
   "id": "0b356ace-9d6e-474e-913d-f564d6992694",
   "metadata": {},
   "outputs": [],
   "source": [
    "# Loading the trained classifier\n",
    "l_cf = pickle.load(open('cf.pkl', 'rb'))"
   ]
  },
  {
   "cell_type": "code",
   "execution_count": 47,
   "id": "714dcf86-87f6-49af-a393-af75b4a2533a",
   "metadata": {},
   "outputs": [],
   "source": [
    "sm_res = \"I Other Skills Course/Skill Name Board Year Of Passing Grade Intermediate Grade Drawing Art Examination Committee, 2011 B Examination Maharashtra State I Academic Programme Detail National Service Scheme (Camp): - Sponsored By Government of India Ministry Of Youth Affairs And Sports, New Delhi & North Maharashtra University, Jalgaon. I Strengths Ã¢Â€Â¢ Ability to Learn From Mistakes. * Honesty Ã¢Â€Â¢ Ready to accept challenges and responsibilities. * Quick learning, adaptability, confidence. I Declaration I /201 Your faithfully, Pia .. . . ( Jetalal Hiralal Gorbanjara)Education Details May 2010 HSC  Nashik, Maharashtra State BoardJune 2008 SSC  Nashik, Maharashtra State Board Asst.Professor Asst.Professor Skill Details Company Details company - Kisan Arts description - - Total Work Experience ( In Months) Sr.       Name of Organization / College        Designation              Working Period          Total Experience No.\t\t( In Months) From            To 1.        Kisan Arts, Commerce & Science        Asst.Professor      20/07/2015    31/05/2016        10 Months Sr. College, Parola Dist- Jalgaon, {Political Sci.) Maharashtra company - Bahadarpur, Tai- Parola Dist description - \""
   ]
  },
  {
   "cell_type": "code",
   "execution_count": 134,
   "id": "6e152feb-cf4e-4efb-91c2-31b92d3625af",
   "metadata": {},
   "outputs": [],
   "source": [
    "# Cleaning the input resume\n",
    "cleaned_res = cleanres(result)"
   ]
  },
  {
   "cell_type": "code",
   "execution_count": 136,
   "id": "6b3857ab-d4fc-4053-b115-49416a5d1acb",
   "metadata": {},
   "outputs": [
    {
     "data": {
      "text/plain": [
       "'Gurjot Gill nA Motivated and detailoriented graduate with a strong foundation in data analysis statistical modeling and data visualization Skillednin problemsolving data manipulation and process optimization with proﬁciency in Python SQL and Excel Eager to leveragenanalytical skills to provide actionable insights and drive streamline processes and contribute to the companys success through datandriven decisionmaking n9642888895 nBangalore nlinkedincomingurjotsinghgill291000 nEDUCATION nBachelors of Computer Application nGITAM University n2019 2022n n nVisakhapatnam nObject orientednProgramming DatabasenManagement System WebnDevelopment PythonnC Java nAdvanced Certiﬁcate Program in DatanScience nIIIT Bangalore n2023 Presentn n nBangalore nSKILLS nPython nMySQL nPyCharm nFlask nPySpark nAWS nPower BI nPandas nNumpy nTensorFlow nEDA nETL nHadoop nS3 nEC2 nStatsModel nExcel nMatplotlib nSeaborn nRegex nNLTK nStreamlit nWebsite designing nContent writing nPERSONAL PROJECTS nPredicting the price of a used Vehicle using its mileagenand type using machine learning nSkills Deployedn nScikit nLearn nMatplotlib n nSeabron n LinearnRegression nOneHotEncoder n nR2score n Accuracy Score nMedical store management system nSkills Deployedn nPython nScikit nLearn Logistic Regression nTﬁdfnClassiﬁer Pickle Pandas Accuracy score nResume Screening using Machine Learning nSkills Deployed n nScikit nLearn Pandas Pickle nMatplotlib n nSeaborn nnTﬁdf nvectorizer n Train test split nRandomForest nClassiﬁer LogisticnRegression Accuracy Score nAnd many more nLANGUAGES nHindi nFull Professional Proﬁciency nEnglish nFull Professional Proﬁciency nPunjabi nFull Professional Proﬁciency nSTRENGHTS nDelegating Work nProeﬃciency nCommunication nWorkﬂow optimization nRelevent Courses '"
      ]
     },
     "execution_count": 136,
     "metadata": {},
     "output_type": "execute_result"
    }
   ],
   "source": [
    "cleaned_res"
   ]
  },
  {
   "cell_type": "code",
   "execution_count": 138,
   "id": "37b1aed0-8305-403b-baf5-3fe82d52b277",
   "metadata": {},
   "outputs": [],
   "source": [
    "# Transforming the cleaned resume using the trained tfidf vectorizer\n",
    "\n",
    "inp_feature = tfidf.transform([cleaned_res])"
   ]
  },
  {
   "cell_type": "code",
   "execution_count": 140,
   "id": "14a7893c-a882-48b5-bb42-bbea149d9d58",
   "metadata": {},
   "outputs": [],
   "source": [
    "# Predicting using the loaded classifier\n",
    "prediction_id = l_cf.predict(inp_feature)[0]"
   ]
  },
  {
   "cell_type": "code",
   "execution_count": 52,
   "id": "c908d626-881e-40a4-9305-5a2dd91195a1",
   "metadata": {},
   "outputs": [],
   "source": [
    "# Mapping the category with the prediction ID\n",
    "\n",
    "category_mapping = {\n",
    "    15: \"Java Developer\",\n",
    "    23: \"Testing\",\n",
    "    8: \"DevOps Engineer\",\n",
    "    20: \"Python Developer\",\n",
    "    24: \"Web Designing\",\n",
    "    12: \"HR\",\n",
    "    13: \"Hadoop\",\n",
    "    3: \"Blockchain\",\n",
    "    10: \"ETL Developer\",\n",
    "    18: \"Operations Manager\",\n",
    "    6: \"Data Science\",\n",
    "    22: \"Sales\",\n",
    "    16: \"Mechanical Engineer\",\n",
    "    1: \"Arts\",\n",
    "    7: \"Database\",\n",
    "    11: \"Electrical Engineering\",\n",
    "    14: \"Health and fitness\",\n",
    "    19: \"PMO\",\n",
    "    4: \"Business Analyst\",\n",
    "    9: \"DotNet Developer\",\n",
    "    2: \"Automation Testing\",\n",
    "    17: \"Network Security Engineer\",\n",
    "    21: \"SAP Developer\",\n",
    "    5: \"Civil Engineer\",\n",
    "    0: \"Advocate\",\n",
    "    }"
   ]
  },
  {
   "cell_type": "code",
   "execution_count": 142,
   "id": "2a66ee95-58e3-461a-8227-acbb7a0bbbfa",
   "metadata": {},
   "outputs": [
    {
     "name": "stdout",
     "output_type": "stream",
     "text": [
      "Predicted ID is:  Data Science\n",
      "6\n"
     ]
    }
   ],
   "source": [
    "# Printing the category\n",
    "\n",
    "category_name = category_mapping.get(prediction_id, 'unknown')\n",
    "print('Predicted ID is: ', category_name)\n",
    "print(prediction_id)"
   ]
  },
  {
   "cell_type": "code",
   "execution_count": 102,
   "id": "eb65ca05-00a1-4e35-9a1f-6d4dfbde19f4",
   "metadata": {},
   "outputs": [],
   "source": [
    "from PyPDF2 import PdfReader"
   ]
  },
  {
   "cell_type": "code",
   "execution_count": 116,
   "id": "fa296d56-2c53-407a-8e14-ee698dc66946",
   "metadata": {},
   "outputs": [],
   "source": [
    "reader = PdfReader(\"Gurjot Gill - Resume.pdf\")\n",
    "res = []\n",
    "for page in reader.pages:\n",
    "    res.append(page.extract_text())"
   ]
  },
  {
   "cell_type": "code",
   "execution_count": 118,
   "id": "01c59053-e687-4ed6-8476-b2ac3b321cc5",
   "metadata": {},
   "outputs": [
    {
     "data": {
      "text/plain": [
       "[\"Gurjot Gill \\nA Motivated and detail-oriented graduate with a strong foundation in data analysis, statistical modeling, and data visualization. Skilled\\nin problem-solving, data manipulation, and process optimization, with proﬁciency in Python, SQL, and Excel. Eager to leverage\\nanalytical skills to provide actionable insights and drive, streamline processes, and contribute to the company’s success through data-\\ndriven decision-making. \\ngurjotg1@gmail.com \\n9642888895 \\nBangalore \\nlinkedin.com/in/gurjot-singh-gill291000 \\nEDUCATION \\nBachelor's of Computer Application \\nGITAM University \\n2019 - 2022\\n, \\n \\nVisakhapatnam \\nObject oriented\\nProgramming, Database\\nManagement System, Web\\nDevelopment, Python,\\nC++, Java. \\nAdvanced Certiﬁcate Program in Data\\nScience \\nIIIT Bangalore \\n2023 - Present\\n, \\n \\nBangalore \\nSKILLS \\nPython \\nMySQL \\nPyCharm \\nFlask \\nPySpark \\nAWS \\nPower BI \\nPandas \\nNumpy \\nTensorFlow \\nEDA \\nETL \\nHadoop \\nS3 \\nEC2 \\nStatsModel \\nExcel \\nMatplotlib \\nSeaborn \\nRegex \\nNLTK \\nStreamlit \\nWebsite designing \\nContent writing \\nPERSONAL PROJECTS \\nPredicting the price of a used Vehicle using it's mileage\\nand type using machine learning. \\nSkills Deployed\\n: \\nScikit \\nLearn, \\nMatplotlib \\n, \\nSeabron \\n, Linear\\nRegression, \\nOneHotEncoder \\n, \\nR2score \\n, Accuracy Score \\nMedical store management system \\nSkills Deployed\\n: \\nPython, \\nScikit \\nLearn, Logistic Regression, \\nTﬁdf\\nClassiﬁer, Pickle, Pandas, Accuracy score \\nResume Screening using Machine Learning \\nSkills Deployed \\n: \\nScikit \\nLearn, Pandas, Pickle, \\nMatplotlib \\n, \\nSeaborn \\n,\\nTﬁdf \\nvectorizer \\n, Train test split, \\nRandomForest \\nClassiﬁer, Logistic\\nRegression, Accuracy Score \\nAnd many more.. \\nLANGUAGES \\nHindi \\nFull Professional Proﬁciency \\nEnglish \\nFull Professional Proﬁciency \\nPunjabi \\nFull Professional Proﬁciency \\nSTRENGHTS \\nDelegating Work \\nPro-eﬃciency \\nCommunication \\nWorkﬂow optimization \\nRelevent Courses \"]"
      ]
     },
     "execution_count": 118,
     "metadata": {},
     "output_type": "execute_result"
    }
   ],
   "source": [
    "res"
   ]
  },
  {
   "cell_type": "code",
   "execution_count": 122,
   "id": "569354ec-2e1e-4663-984a-84fbe8912664",
   "metadata": {},
   "outputs": [
    {
     "name": "stdout",
     "output_type": "stream",
     "text": [
      "[\"Gurjot Gill \\nA Motivated and detail-oriented graduate with a strong foundation in data analysis, statistical modeling, and data visualization. Skilled\\nin problem-solving, data manipulation, and process optimization, with proﬁciency in Python, SQL, and Excel. Eager to leverage\\nanalytical skills to provide actionable insights and drive, streamline processes, and contribute to the company’s success through data-\\ndriven decision-making. \\ngurjotg1@gmail.com \\n9642888895 \\nBangalore \\nlinkedin.com/in/gurjot-singh-gill291000 \\nEDUCATION \\nBachelor's of Computer Application \\nGITAM University \\n2019 - 2022\\n, \\n \\nVisakhapatnam \\nObject oriented\\nProgramming, Database\\nManagement System, Web\\nDevelopment, Python,\\nC++, Java. \\nAdvanced Certiﬁcate Program in Data\\nScience \\nIIIT Bangalore \\n2023 - Present\\n, \\n \\nBangalore \\nSKILLS \\nPython \\nMySQL \\nPyCharm \\nFlask \\nPySpark \\nAWS \\nPower BI \\nPandas \\nNumpy \\nTensorFlow \\nEDA \\nETL \\nHadoop \\nS3 \\nEC2 \\nStatsModel \\nExcel \\nMatplotlib \\nSeaborn \\nRegex \\nNLTK \\nStreamlit \\nWebsite designing \\nContent writing \\nPERSONAL PROJECTS \\nPredicting the price of a used Vehicle using it's mileage\\nand type using machine learning. \\nSkills Deployed\\n: \\nScikit \\nLearn, \\nMatplotlib \\n, \\nSeabron \\n, Linear\\nRegression, \\nOneHotEncoder \\n, \\nR2score \\n, Accuracy Score \\nMedical store management system \\nSkills Deployed\\n: \\nPython, \\nScikit \\nLearn, Logistic Regression, \\nTﬁdf\\nClassiﬁer, Pickle, Pandas, Accuracy score \\nResume Screening using Machine Learning \\nSkills Deployed \\n: \\nScikit \\nLearn, Pandas, Pickle, \\nMatplotlib \\n, \\nSeaborn \\n,\\nTﬁdf \\nvectorizer \\n, Train test split, \\nRandomForest \\nClassiﬁer, Logistic\\nRegression, Accuracy Score \\nAnd many more.. \\nLANGUAGES \\nHindi \\nFull Professional Proﬁciency \\nEnglish \\nFull Professional Proﬁciency \\nPunjabi \\nFull Professional Proﬁciency \\nSTRENGHTS \\nDelegating Work \\nPro-eﬃciency \\nCommunication \\nWorkﬂow optimization \\nRelevent Courses \"]\n"
     ]
    }
   ],
   "source": [
    "result = ','.join([str(res) for items in res])\n",
    "print(result)"
   ]
  },
  {
   "cell_type": "code",
   "execution_count": null,
   "id": "b9c2045b-c23c-4aec-a875-54b2077d839e",
   "metadata": {},
   "outputs": [],
   "source": []
  }
 ],
 "metadata": {
  "kernelspec": {
   "display_name": "Python 3 (ipykernel)",
   "language": "python",
   "name": "python3"
  },
  "language_info": {
   "codemirror_mode": {
    "name": "ipython",
    "version": 3
   },
   "file_extension": ".py",
   "mimetype": "text/x-python",
   "name": "python",
   "nbconvert_exporter": "python",
   "pygments_lexer": "ipython3",
   "version": "3.12.7"
  }
 },
 "nbformat": 4,
 "nbformat_minor": 5
}
